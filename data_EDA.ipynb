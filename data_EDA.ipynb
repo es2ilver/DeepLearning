{
  "nbformat": 4,
  "nbformat_minor": 0,
  "metadata": {
    "colab": {
      "provenance": [],
      "gpuType": "T4"
    },
    "kernelspec": {
      "name": "python3",
      "display_name": "Python 3"
    },
    "language_info": {
      "name": "python"
    },
    "accelerator": "GPU"
  },
  "cells": [
    {
      "cell_type": "code",
      "source": [
        "!pip install ai-benchmark"
      ],
      "metadata": {
        "colab": {
          "base_uri": "https://localhost:8080/"
        },
        "id": "fhxzpVSlIhKs",
        "outputId": "11c5c7fb-44cf-411b-eb7e-003e401cad03"
      },
      "execution_count": null,
      "outputs": [
        {
          "output_type": "stream",
          "name": "stdout",
          "text": [
            "Collecting ai-benchmark\n",
            "  Downloading ai_benchmark-0.1.2-py3-none-any.whl (21.5 MB)\n",
            "\u001b[2K     \u001b[90m━━━━━━━━━━━━━━━━━━━━━━━━━━━━━━━━━━━━━━━━\u001b[0m \u001b[32m21.5/21.5 MB\u001b[0m \u001b[31m71.3 MB/s\u001b[0m eta \u001b[36m0:00:00\u001b[0m\n",
            "\u001b[?25hRequirement already satisfied: numpy in /usr/local/lib/python3.10/dist-packages (from ai-benchmark) (1.23.5)\n",
            "Requirement already satisfied: psutil in /usr/local/lib/python3.10/dist-packages (from ai-benchmark) (5.9.5)\n",
            "Requirement already satisfied: py-cpuinfo in /usr/local/lib/python3.10/dist-packages (from ai-benchmark) (9.0.0)\n",
            "Requirement already satisfied: pillow in /usr/local/lib/python3.10/dist-packages (from ai-benchmark) (9.4.0)\n",
            "Requirement already satisfied: setuptools in /usr/local/lib/python3.10/dist-packages (from ai-benchmark) (67.7.2)\n",
            "Requirement already satisfied: requests in /usr/local/lib/python3.10/dist-packages (from ai-benchmark) (2.31.0)\n",
            "Requirement already satisfied: charset-normalizer<4,>=2 in /usr/local/lib/python3.10/dist-packages (from requests->ai-benchmark) (3.3.2)\n",
            "Requirement already satisfied: idna<4,>=2.5 in /usr/local/lib/python3.10/dist-packages (from requests->ai-benchmark) (3.6)\n",
            "Requirement already satisfied: urllib3<3,>=1.21.1 in /usr/local/lib/python3.10/dist-packages (from requests->ai-benchmark) (2.0.7)\n",
            "Requirement already satisfied: certifi>=2017.4.17 in /usr/local/lib/python3.10/dist-packages (from requests->ai-benchmark) (2023.11.17)\n",
            "Installing collected packages: ai-benchmark\n",
            "Successfully installed ai-benchmark-0.1.2\n"
          ]
        }
      ]
    },
    {
      "cell_type": "code",
      "source": [
        "from ai_benchmark import AIBenchmark\n",
        "benchmark = AIBenchmark()\n",
        "results = benchmark.run(precision=\"high\")"
      ],
      "metadata": {
        "id": "XXr0kgRHIfH_"
      },
      "execution_count": null,
      "outputs": []
    },
    {
      "cell_type": "code",
      "execution_count": null,
      "metadata": {
        "id": "PiwnfPeVUJ8X",
        "colab": {
          "base_uri": "https://localhost:8080/"
        },
        "outputId": "ab9d3112-d935-4a68-adab-578e6635c402"
      },
      "outputs": [
        {
          "output_type": "stream",
          "name": "stdout",
          "text": [
            "Mounted at /content/drive\n",
            "/content/drive/MyDrive/COSE474/PROJECT\n"
          ]
        }
      ],
      "source": [
        "from google.colab import drive\n",
        "drive.mount('/content/drive')\n",
        "\n",
        "# 현재 경로 지정\n",
        "%cd '/content/drive/MyDrive/COSE474/PROJECT'"
      ]
    },
    {
      "cell_type": "markdown",
      "source": [
        "# Setup"
      ],
      "metadata": {
        "id": "jP9LDx13VrgK"
      }
    },
    {
      "cell_type": "code",
      "source": [
        "import numpy as np\n",
        "import pandas as pd\n",
        "import matplotlib.pyplot as plt\n",
        "import seaborn as sns\n",
        "import os\n",
        "import cv2\n",
        "import glob\n",
        "import random\n",
        "\n",
        "from rich import print as _pprint"
      ],
      "metadata": {
        "id": "Hij9QNFaVrU0"
      },
      "execution_count": null,
      "outputs": []
    },
    {
      "cell_type": "code",
      "source": [
        "train_file = pd.read_csv(\"data/train.csv\")\n",
        "train_file.head()"
      ],
      "metadata": {
        "id": "CR9FLkq3UqVs",
        "colab": {
          "base_uri": "https://localhost:8080/"
        },
        "outputId": "2bd2cb61-0af7-4066-ec57-d6155a57331b"
      },
      "execution_count": null,
      "outputs": [
        {
          "output_type": "execute_result",
          "data": {
            "text/plain": [
              "         posting_id                                 image       image_phash  \\\n",
              "0   train_129225211  0000a68812bc7e98c42888dfb1c07da0.jpg  94974f937d4c2433   \n",
              "1  train_3386243561  00039780dfc94d01db8676fe789ecd05.jpg  af3f9460c2838f0f   \n",
              "2  train_2288590299  000a190fdd715a2a36faed16e2c65df7.jpg  b94cb00ed3e50f78   \n",
              "3  train_2406599165  00117e4fc239b1b641ff08340b429633.jpg  8514fc58eafea283   \n",
              "4  train_3369186413  00136d1cf4edede0203f32f05f660588.jpg  a6f319f924ad708c   \n",
              "\n",
              "                                               title  label_group  \n",
              "0                          Paper Bag Victoria Secret    249114794  \n",
              "1  Double Tape 3M VHB 12 mm x 4,5 m ORIGINAL / DO...   2937985045  \n",
              "2        Maling TTS Canned Pork Luncheon Meat 397 gr   2395904891  \n",
              "3  Daster Batik Lengan pendek - Motif Acak / Camp...   4093212188  \n",
              "4                  Nescafe \\xc3\\x89clair Latte 220ml   3648931069  "
            ],
            "text/html": [
              "\n",
              "  <div id=\"df-7a940731-4132-44c6-a5e9-b4440acd88f5\" class=\"colab-df-container\">\n",
              "    <div>\n",
              "<style scoped>\n",
              "    .dataframe tbody tr th:only-of-type {\n",
              "        vertical-align: middle;\n",
              "    }\n",
              "\n",
              "    .dataframe tbody tr th {\n",
              "        vertical-align: top;\n",
              "    }\n",
              "\n",
              "    .dataframe thead th {\n",
              "        text-align: right;\n",
              "    }\n",
              "</style>\n",
              "<table border=\"1\" class=\"dataframe\">\n",
              "  <thead>\n",
              "    <tr style=\"text-align: right;\">\n",
              "      <th></th>\n",
              "      <th>posting_id</th>\n",
              "      <th>image</th>\n",
              "      <th>image_phash</th>\n",
              "      <th>title</th>\n",
              "      <th>label_group</th>\n",
              "    </tr>\n",
              "  </thead>\n",
              "  <tbody>\n",
              "    <tr>\n",
              "      <th>0</th>\n",
              "      <td>train_129225211</td>\n",
              "      <td>0000a68812bc7e98c42888dfb1c07da0.jpg</td>\n",
              "      <td>94974f937d4c2433</td>\n",
              "      <td>Paper Bag Victoria Secret</td>\n",
              "      <td>249114794</td>\n",
              "    </tr>\n",
              "    <tr>\n",
              "      <th>1</th>\n",
              "      <td>train_3386243561</td>\n",
              "      <td>00039780dfc94d01db8676fe789ecd05.jpg</td>\n",
              "      <td>af3f9460c2838f0f</td>\n",
              "      <td>Double Tape 3M VHB 12 mm x 4,5 m ORIGINAL / DO...</td>\n",
              "      <td>2937985045</td>\n",
              "    </tr>\n",
              "    <tr>\n",
              "      <th>2</th>\n",
              "      <td>train_2288590299</td>\n",
              "      <td>000a190fdd715a2a36faed16e2c65df7.jpg</td>\n",
              "      <td>b94cb00ed3e50f78</td>\n",
              "      <td>Maling TTS Canned Pork Luncheon Meat 397 gr</td>\n",
              "      <td>2395904891</td>\n",
              "    </tr>\n",
              "    <tr>\n",
              "      <th>3</th>\n",
              "      <td>train_2406599165</td>\n",
              "      <td>00117e4fc239b1b641ff08340b429633.jpg</td>\n",
              "      <td>8514fc58eafea283</td>\n",
              "      <td>Daster Batik Lengan pendek - Motif Acak / Camp...</td>\n",
              "      <td>4093212188</td>\n",
              "    </tr>\n",
              "    <tr>\n",
              "      <th>4</th>\n",
              "      <td>train_3369186413</td>\n",
              "      <td>00136d1cf4edede0203f32f05f660588.jpg</td>\n",
              "      <td>a6f319f924ad708c</td>\n",
              "      <td>Nescafe \\xc3\\x89clair Latte 220ml</td>\n",
              "      <td>3648931069</td>\n",
              "    </tr>\n",
              "  </tbody>\n",
              "</table>\n",
              "</div>\n",
              "    <div class=\"colab-df-buttons\">\n",
              "\n",
              "  <div class=\"colab-df-container\">\n",
              "    <button class=\"colab-df-convert\" onclick=\"convertToInteractive('df-7a940731-4132-44c6-a5e9-b4440acd88f5')\"\n",
              "            title=\"Convert this dataframe to an interactive table.\"\n",
              "            style=\"display:none;\">\n",
              "\n",
              "  <svg xmlns=\"http://www.w3.org/2000/svg\" height=\"24px\" viewBox=\"0 -960 960 960\">\n",
              "    <path d=\"M120-120v-720h720v720H120Zm60-500h600v-160H180v160Zm220 220h160v-160H400v160Zm0 220h160v-160H400v160ZM180-400h160v-160H180v160Zm440 0h160v-160H620v160ZM180-180h160v-160H180v160Zm440 0h160v-160H620v160Z\"/>\n",
              "  </svg>\n",
              "    </button>\n",
              "\n",
              "  <style>\n",
              "    .colab-df-container {\n",
              "      display:flex;\n",
              "      gap: 12px;\n",
              "    }\n",
              "\n",
              "    .colab-df-convert {\n",
              "      background-color: #E8F0FE;\n",
              "      border: none;\n",
              "      border-radius: 50%;\n",
              "      cursor: pointer;\n",
              "      display: none;\n",
              "      fill: #1967D2;\n",
              "      height: 32px;\n",
              "      padding: 0 0 0 0;\n",
              "      width: 32px;\n",
              "    }\n",
              "\n",
              "    .colab-df-convert:hover {\n",
              "      background-color: #E2EBFA;\n",
              "      box-shadow: 0px 1px 2px rgba(60, 64, 67, 0.3), 0px 1px 3px 1px rgba(60, 64, 67, 0.15);\n",
              "      fill: #174EA6;\n",
              "    }\n",
              "\n",
              "    .colab-df-buttons div {\n",
              "      margin-bottom: 4px;\n",
              "    }\n",
              "\n",
              "    [theme=dark] .colab-df-convert {\n",
              "      background-color: #3B4455;\n",
              "      fill: #D2E3FC;\n",
              "    }\n",
              "\n",
              "    [theme=dark] .colab-df-convert:hover {\n",
              "      background-color: #434B5C;\n",
              "      box-shadow: 0px 1px 3px 1px rgba(0, 0, 0, 0.15);\n",
              "      filter: drop-shadow(0px 1px 2px rgba(0, 0, 0, 0.3));\n",
              "      fill: #FFFFFF;\n",
              "    }\n",
              "  </style>\n",
              "\n",
              "    <script>\n",
              "      const buttonEl =\n",
              "        document.querySelector('#df-7a940731-4132-44c6-a5e9-b4440acd88f5 button.colab-df-convert');\n",
              "      buttonEl.style.display =\n",
              "        google.colab.kernel.accessAllowed ? 'block' : 'none';\n",
              "\n",
              "      async function convertToInteractive(key) {\n",
              "        const element = document.querySelector('#df-7a940731-4132-44c6-a5e9-b4440acd88f5');\n",
              "        const dataTable =\n",
              "          await google.colab.kernel.invokeFunction('convertToInteractive',\n",
              "                                                    [key], {});\n",
              "        if (!dataTable) return;\n",
              "\n",
              "        const docLinkHtml = 'Like what you see? Visit the ' +\n",
              "          '<a target=\"_blank\" href=https://colab.research.google.com/notebooks/data_table.ipynb>data table notebook</a>'\n",
              "          + ' to learn more about interactive tables.';\n",
              "        element.innerHTML = '';\n",
              "        dataTable['output_type'] = 'display_data';\n",
              "        await google.colab.output.renderOutput(dataTable, element);\n",
              "        const docLink = document.createElement('div');\n",
              "        docLink.innerHTML = docLinkHtml;\n",
              "        element.appendChild(docLink);\n",
              "      }\n",
              "    </script>\n",
              "  </div>\n",
              "\n",
              "\n",
              "<div id=\"df-8dc9a312-28f9-46ad-b52d-a86b2ce0a430\">\n",
              "  <button class=\"colab-df-quickchart\" onclick=\"quickchart('df-8dc9a312-28f9-46ad-b52d-a86b2ce0a430')\"\n",
              "            title=\"Suggest charts\"\n",
              "            style=\"display:none;\">\n",
              "\n",
              "<svg xmlns=\"http://www.w3.org/2000/svg\" height=\"24px\"viewBox=\"0 0 24 24\"\n",
              "     width=\"24px\">\n",
              "    <g>\n",
              "        <path d=\"M19 3H5c-1.1 0-2 .9-2 2v14c0 1.1.9 2 2 2h14c1.1 0 2-.9 2-2V5c0-1.1-.9-2-2-2zM9 17H7v-7h2v7zm4 0h-2V7h2v10zm4 0h-2v-4h2v4z\"/>\n",
              "    </g>\n",
              "</svg>\n",
              "  </button>\n",
              "\n",
              "<style>\n",
              "  .colab-df-quickchart {\n",
              "      --bg-color: #E8F0FE;\n",
              "      --fill-color: #1967D2;\n",
              "      --hover-bg-color: #E2EBFA;\n",
              "      --hover-fill-color: #174EA6;\n",
              "      --disabled-fill-color: #AAA;\n",
              "      --disabled-bg-color: #DDD;\n",
              "  }\n",
              "\n",
              "  [theme=dark] .colab-df-quickchart {\n",
              "      --bg-color: #3B4455;\n",
              "      --fill-color: #D2E3FC;\n",
              "      --hover-bg-color: #434B5C;\n",
              "      --hover-fill-color: #FFFFFF;\n",
              "      --disabled-bg-color: #3B4455;\n",
              "      --disabled-fill-color: #666;\n",
              "  }\n",
              "\n",
              "  .colab-df-quickchart {\n",
              "    background-color: var(--bg-color);\n",
              "    border: none;\n",
              "    border-radius: 50%;\n",
              "    cursor: pointer;\n",
              "    display: none;\n",
              "    fill: var(--fill-color);\n",
              "    height: 32px;\n",
              "    padding: 0;\n",
              "    width: 32px;\n",
              "  }\n",
              "\n",
              "  .colab-df-quickchart:hover {\n",
              "    background-color: var(--hover-bg-color);\n",
              "    box-shadow: 0 1px 2px rgba(60, 64, 67, 0.3), 0 1px 3px 1px rgba(60, 64, 67, 0.15);\n",
              "    fill: var(--button-hover-fill-color);\n",
              "  }\n",
              "\n",
              "  .colab-df-quickchart-complete:disabled,\n",
              "  .colab-df-quickchart-complete:disabled:hover {\n",
              "    background-color: var(--disabled-bg-color);\n",
              "    fill: var(--disabled-fill-color);\n",
              "    box-shadow: none;\n",
              "  }\n",
              "\n",
              "  .colab-df-spinner {\n",
              "    border: 2px solid var(--fill-color);\n",
              "    border-color: transparent;\n",
              "    border-bottom-color: var(--fill-color);\n",
              "    animation:\n",
              "      spin 1s steps(1) infinite;\n",
              "  }\n",
              "\n",
              "  @keyframes spin {\n",
              "    0% {\n",
              "      border-color: transparent;\n",
              "      border-bottom-color: var(--fill-color);\n",
              "      border-left-color: var(--fill-color);\n",
              "    }\n",
              "    20% {\n",
              "      border-color: transparent;\n",
              "      border-left-color: var(--fill-color);\n",
              "      border-top-color: var(--fill-color);\n",
              "    }\n",
              "    30% {\n",
              "      border-color: transparent;\n",
              "      border-left-color: var(--fill-color);\n",
              "      border-top-color: var(--fill-color);\n",
              "      border-right-color: var(--fill-color);\n",
              "    }\n",
              "    40% {\n",
              "      border-color: transparent;\n",
              "      border-right-color: var(--fill-color);\n",
              "      border-top-color: var(--fill-color);\n",
              "    }\n",
              "    60% {\n",
              "      border-color: transparent;\n",
              "      border-right-color: var(--fill-color);\n",
              "    }\n",
              "    80% {\n",
              "      border-color: transparent;\n",
              "      border-right-color: var(--fill-color);\n",
              "      border-bottom-color: var(--fill-color);\n",
              "    }\n",
              "    90% {\n",
              "      border-color: transparent;\n",
              "      border-bottom-color: var(--fill-color);\n",
              "    }\n",
              "  }\n",
              "</style>\n",
              "\n",
              "  <script>\n",
              "    async function quickchart(key) {\n",
              "      const quickchartButtonEl =\n",
              "        document.querySelector('#' + key + ' button');\n",
              "      quickchartButtonEl.disabled = true;  // To prevent multiple clicks.\n",
              "      quickchartButtonEl.classList.add('colab-df-spinner');\n",
              "      try {\n",
              "        const charts = await google.colab.kernel.invokeFunction(\n",
              "            'suggestCharts', [key], {});\n",
              "      } catch (error) {\n",
              "        console.error('Error during call to suggestCharts:', error);\n",
              "      }\n",
              "      quickchartButtonEl.classList.remove('colab-df-spinner');\n",
              "      quickchartButtonEl.classList.add('colab-df-quickchart-complete');\n",
              "    }\n",
              "    (() => {\n",
              "      let quickchartButtonEl =\n",
              "        document.querySelector('#df-8dc9a312-28f9-46ad-b52d-a86b2ce0a430 button');\n",
              "      quickchartButtonEl.style.display =\n",
              "        google.colab.kernel.accessAllowed ? 'block' : 'none';\n",
              "    })();\n",
              "  </script>\n",
              "</div>\n",
              "\n",
              "    </div>\n",
              "  </div>\n"
            ]
          },
          "metadata": {},
          "execution_count": 3
        }
      ]
    },
    {
      "cell_type": "markdown",
      "source": [],
      "metadata": {
        "id": "VrwPWLwDWmUS"
      }
    },
    {
      "cell_type": "code",
      "source": [
        "# 이미지 압축 해제해놨더니 너무 많아서 그런가? 읽는데 너무 오래 걸리는 것 같다"
      ],
      "metadata": {
        "id": "siwFjV-FWktt"
      },
      "execution_count": null,
      "outputs": []
    },
    {
      "cell_type": "code",
      "source": [
        "def plot(num):\n",
        "    IMG_PATHS = \"data/train_images/\"\n",
        "    sq_num = np.sqrt(num)\n",
        "    assert sq_num == int(sq_num), \"Number of Images must be a perfect Square!\"\n",
        "\n",
        "    sq_num = int(sq_num)\n",
        "    image_ids = os.listdir(IMG_PATHS)\n",
        "    random.shuffle(image_ids)\n",
        "    fig, ax = plt.subplots(nrows=sq_num, ncols=sq_num, figsize=(10, 10))\n",
        "\n",
        "    for i in range(sq_num):\n",
        "        for j in range(sq_num):\n",
        "            idx = i*sq_num + j\n",
        "            ax[i, j].axis('off')\n",
        "            img = cv2.imread(IMG_PATHS + '/' + image_ids[idx])\n",
        "            img = img[:, :, ::-1]\n",
        "            ax[i, j].imshow(img);\n",
        "            # ax[i, j].set_title(f'{image_ids[idx]}', fontsize=6.5)\n",
        "\n",
        "    plt.show()"
      ],
      "metadata": {
        "id": "im5Ol67mV8NH"
      },
      "execution_count": null,
      "outputs": []
    },
    {
      "cell_type": "markdown",
      "source": [
        "# Randomly plot products"
      ],
      "metadata": {
        "id": "QksXYCEqXZB-"
      }
    },
    {
      "cell_type": "code",
      "source": [
        "plot(16)"
      ],
      "metadata": {
        "id": "wFmQiRDHXCB4"
      },
      "execution_count": null,
      "outputs": []
    },
    {
      "cell_type": "markdown",
      "source": [
        "# Products with Same Label Group"
      ],
      "metadata": {
        "id": "VjSIzcgTXKCv"
      }
    },
    {
      "cell_type": "code",
      "source": [
        "def plot_from_label(group):\n",
        "    IMG_PATHS = \"data/train_images/\"\n",
        "    image_list = train_file[train_file['label_group'] == group]\n",
        "    image_list = image_list['image'].tolist()\n",
        "    num = 16\n",
        "\n",
        "    sq_num = np.sqrt(num)\n",
        "\n",
        "    sq_num = int(sq_num)\n",
        "    image_ids = os.listdir(IMG_PATHS)\n",
        "    random.shuffle(image_ids)\n",
        "    fig, ax = plt.subplots(nrows=sq_num, ncols=sq_num, figsize=(10, 10))\n",
        "\n",
        "    path = [os.path.join(IMG_PATHS, x) for x in image_list]\n",
        "\n",
        "    for i in range(sq_num):\n",
        "        for j in range(sq_num):\n",
        "            idx = i*sq_num + j\n",
        "            ax[i, j].axis('off')\n",
        "            img = cv2.imread(path[idx])\n",
        "            img = img[:, :, ::-1]\n",
        "            ax[i, j].imshow(img)\n",
        "\n",
        "    plt.show()"
      ],
      "metadata": {
        "id": "uP8AkIOEXDzA"
      },
      "execution_count": null,
      "outputs": []
    },
    {
      "cell_type": "code",
      "source": [
        "plot_from_label(2259957740)"
      ],
      "metadata": {
        "id": "sgPWvVFXXQcv"
      },
      "execution_count": null,
      "outputs": []
    },
    {
      "cell_type": "code",
      "source": [
        "plot_from_label(1237550763)"
      ],
      "metadata": {
        "id": "vJhh39O2XeYb"
      },
      "execution_count": null,
      "outputs": []
    },
    {
      "cell_type": "markdown",
      "source": [
        "# Products with Same Name"
      ],
      "metadata": {
        "id": "diQT1hIHX5am"
      }
    },
    {
      "cell_type": "code",
      "source": [
        "def plot_from_title(title):\n",
        "    IMG_PATHS = \"data/train_images/\"\n",
        "    image_list = train_file[train_file['title'] == title]\n",
        "    image_list = image_list['image'].tolist()\n",
        "    num = len(image_list)\n",
        "\n",
        "    sq_num = np.sqrt(num)\n",
        "    sq_num = int(sq_num)\n",
        "\n",
        "    image_ids = os.listdir(IMG_PATHS)\n",
        "    random.shuffle(image_ids)\n",
        "    fig, ax = plt.subplots(nrows=sq_num, ncols=sq_num, figsize=(10, 10))\n",
        "    # fig.suptitle(f\"Product Name: {title}\")\n",
        "    path = [os.path.join(IMG_PATHS, x) for x in image_list]\n",
        "\n",
        "    for i in range(sq_num):\n",
        "        for j in range(sq_num):\n",
        "            idx = i*sq_num + j\n",
        "            ax[i, j].axis('off')\n",
        "            img = cv2.imread(path[idx])\n",
        "            img = img[:, :, ::-1]\n",
        "            ax[i, j].imshow(img)\n",
        "\n",
        "    plt.show()"
      ],
      "metadata": {
        "id": "C6DDUIbgZXNd"
      },
      "execution_count": null,
      "outputs": []
    },
    {
      "cell_type": "code",
      "source": [
        "plot_from_title(\"Monde Boromon Cookies 1 tahun+ 120gr\")"
      ],
      "metadata": {
        "id": "MLZvzaXGZaLc"
      },
      "execution_count": null,
      "outputs": []
    },
    {
      "cell_type": "markdown",
      "source": [
        "# Count Image Label Groups"
      ],
      "metadata": {
        "id": "Pvs5Gm_cX2oS"
      }
    },
    {
      "cell_type": "code",
      "source": [
        "sns.set_palette(\"tab20\")\n",
        "top10_names = train_file['label_group'].value_counts().index.tolist()[:40]\n",
        "top10_values = train_file['label_group'].value_counts().tolist()[:40]\n",
        "\n",
        "# plt.figure(figsize=(10, 10))\n",
        "# sns.barplot(x=top10_names, y=top10_values)\n",
        "# plt.xticks(rotation=45)\n",
        "# plt.xlabel(\"Label Group\")\n",
        "# plt.ylabel(\"Image Count\")\n",
        "# plt.title(\"Top-15 Label Groups by Image Count\")\n",
        "# plt.show()"
      ],
      "metadata": {
        "id": "cyhdVgjOXv49"
      },
      "execution_count": null,
      "outputs": []
    },
    {
      "cell_type": "code",
      "source": [
        "top10_names"
      ],
      "metadata": {
        "id": "2XRTFPBqYGjR"
      },
      "execution_count": null,
      "outputs": []
    }
  ]
}